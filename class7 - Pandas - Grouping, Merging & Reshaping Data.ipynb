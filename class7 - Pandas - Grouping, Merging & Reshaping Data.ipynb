{
 "cells": [
  {
   "cell_type": "code",
   "execution_count": 1,
   "metadata": {
    "collapsed": true
   },
   "outputs": [],
   "source": [
    "import pandas as pd\n",
    "import numpy as np"
   ]
  },
  {
   "cell_type": "code",
   "execution_count": null,
   "metadata": {
    "collapsed": true
   },
   "outputs": [],
   "source": []
  },
  {
   "cell_type": "markdown",
   "metadata": {},
   "source": [
    "## Grouping\n",
    "* groupby()"
   ]
  },
  {
   "cell_type": "code",
   "execution_count": 2,
   "metadata": {
    "collapsed": true
   },
   "outputs": [],
   "source": [
    "data = pd.read_csv(r'C:\\Users\\omc\\Desktop\\Data Science\\Populationoutput.csv')"
   ]
  },
  {
   "cell_type": "code",
   "execution_count": 3,
   "metadata": {},
   "outputs": [
    {
     "data": {
      "text/html": [
       "<div>\n",
       "<style>\n",
       "    .dataframe thead tr:only-child th {\n",
       "        text-align: right;\n",
       "    }\n",
       "\n",
       "    .dataframe thead th {\n",
       "        text-align: left;\n",
       "    }\n",
       "\n",
       "    .dataframe tbody tr th {\n",
       "        vertical-align: top;\n",
       "    }\n",
       "</style>\n",
       "<table border=\"1\" class=\"dataframe\">\n",
       "  <thead>\n",
       "    <tr style=\"text-align: right;\">\n",
       "      <th></th>\n",
       "      <th>Unnamed: 0</th>\n",
       "      <th>State</th>\n",
       "      <th>Male</th>\n",
       "      <th>Female</th>\n",
       "      <th>Total</th>\n",
       "      <th>Male .1</th>\n",
       "      <th>Female .1</th>\n",
       "      <th>Total.1</th>\n",
       "      <th>Male_female</th>\n",
       "    </tr>\n",
       "  </thead>\n",
       "  <tbody>\n",
       "    <tr>\n",
       "      <th>0</th>\n",
       "      <td>0</td>\n",
       "      <td>Andaman &amp; Nicobar Islands</td>\n",
       "      <td>17547</td>\n",
       "      <td>17768</td>\n",
       "      <td>35315</td>\n",
       "      <td>11034</td>\n",
       "      <td>11198</td>\n",
       "      <td>22232</td>\n",
       "      <td>35315</td>\n",
       "    </tr>\n",
       "    <tr>\n",
       "      <th>1</th>\n",
       "      <td>1</td>\n",
       "      <td>Andhra Pradesh</td>\n",
       "      <td>2165879</td>\n",
       "      <td>2032435</td>\n",
       "      <td>4198320</td>\n",
       "      <td>1309000</td>\n",
       "      <td>1229445</td>\n",
       "      <td>2538440</td>\n",
       "      <td>4198314</td>\n",
       "    </tr>\n",
       "    <tr>\n",
       "      <th>2</th>\n",
       "      <td>2</td>\n",
       "      <td>Arunachal Pradesh</td>\n",
       "      <td>88695</td>\n",
       "      <td>85828</td>\n",
       "      <td>174523</td>\n",
       "      <td>39439</td>\n",
       "      <td>38352</td>\n",
       "      <td>77791</td>\n",
       "      <td>174523</td>\n",
       "    </tr>\n",
       "    <tr>\n",
       "      <th>3</th>\n",
       "      <td>3</td>\n",
       "      <td>Assam</td>\n",
       "      <td>1792270</td>\n",
       "      <td>1714270</td>\n",
       "      <td>3506540</td>\n",
       "      <td>944482</td>\n",
       "      <td>894428</td>\n",
       "      <td>1838910</td>\n",
       "      <td>3506540</td>\n",
       "    </tr>\n",
       "    <tr>\n",
       "      <th>4</th>\n",
       "      <td>0</td>\n",
       "      <td>Andaman &amp; Nicobar Islands</td>\n",
       "      <td>17547</td>\n",
       "      <td>17768</td>\n",
       "      <td>35315</td>\n",
       "      <td>11034</td>\n",
       "      <td>11198</td>\n",
       "      <td>22232</td>\n",
       "      <td>35315</td>\n",
       "    </tr>\n",
       "    <tr>\n",
       "      <th>5</th>\n",
       "      <td>1</td>\n",
       "      <td>Andhra Pradesh</td>\n",
       "      <td>2165879</td>\n",
       "      <td>2032435</td>\n",
       "      <td>4198320</td>\n",
       "      <td>1309000</td>\n",
       "      <td>1229445</td>\n",
       "      <td>2538440</td>\n",
       "      <td>4198314</td>\n",
       "    </tr>\n",
       "    <tr>\n",
       "      <th>6</th>\n",
       "      <td>3</td>\n",
       "      <td>Assam</td>\n",
       "      <td>1792270</td>\n",
       "      <td>1714270</td>\n",
       "      <td>3506540</td>\n",
       "      <td>944482</td>\n",
       "      <td>894428</td>\n",
       "      <td>1838910</td>\n",
       "      <td>3506540</td>\n",
       "    </tr>\n",
       "  </tbody>\n",
       "</table>\n",
       "</div>"
      ],
      "text/plain": [
       "   Unnamed: 0                      State    Male   Female     Total  Male .1  \\\n",
       "0           0  Andaman & Nicobar Islands    17547    17768    35315    11034   \n",
       "1           1             Andhra Pradesh  2165879  2032435  4198320  1309000   \n",
       "2           2          Arunachal Pradesh    88695    85828   174523    39439   \n",
       "3           3                      Assam  1792270  1714270  3506540   944482   \n",
       "4           0  Andaman & Nicobar Islands    17547    17768    35315    11034   \n",
       "5           1             Andhra Pradesh  2165879  2032435  4198320  1309000   \n",
       "6           3                      Assam  1792270  1714270  3506540   944482   \n",
       "\n",
       "   Female .1  Total.1  Male_female  \n",
       "0      11198    22232        35315  \n",
       "1    1229445  2538440      4198314  \n",
       "2      38352    77791       174523  \n",
       "3     894428  1838910      3506540  \n",
       "4      11198    22232        35315  \n",
       "5    1229445  2538440      4198314  \n",
       "6     894428  1838910      3506540  "
      ]
     },
     "execution_count": 3,
     "metadata": {},
     "output_type": "execute_result"
    }
   ],
   "source": [
    "data"
   ]
  },
  {
   "cell_type": "code",
   "execution_count": 4,
   "metadata": {
    "collapsed": true
   },
   "outputs": [],
   "source": [
    "del data['Unnamed: 0']"
   ]
  },
  {
   "cell_type": "code",
   "execution_count": 5,
   "metadata": {
    "collapsed": true
   },
   "outputs": [],
   "source": [
    "datagb = data.groupby('State')\n",
    "#returns grouby object"
   ]
  },
  {
   "cell_type": "code",
   "execution_count": 6,
   "metadata": {},
   "outputs": [
    {
     "data": {
      "text/plain": [
       "State\n",
       "Andaman & Nicobar Islands    2\n",
       "Andhra Pradesh               2\n",
       "Arunachal Pradesh            1\n",
       "Assam                        2\n",
       "dtype: int64"
      ]
     },
     "execution_count": 6,
     "metadata": {},
     "output_type": "execute_result"
    }
   ],
   "source": [
    "datagb.size()"
   ]
  },
  {
   "cell_type": "code",
   "execution_count": 7,
   "metadata": {},
   "outputs": [
    {
     "data": {
      "text/plain": [
       "{'Andaman & Nicobar Islands': Int64Index([0, 4], dtype='int64'),\n",
       " 'Andhra Pradesh': Int64Index([1, 5], dtype='int64'),\n",
       " 'Arunachal Pradesh': Int64Index([2], dtype='int64'),\n",
       " 'Assam': Int64Index([3, 6], dtype='int64')}"
      ]
     },
     "execution_count": 7,
     "metadata": {},
     "output_type": "execute_result"
    }
   ],
   "source": [
    "datagb.groups"
   ]
  },
  {
   "cell_type": "code",
   "execution_count": 8,
   "metadata": {
    "collapsed": true
   },
   "outputs": [],
   "source": [
    "l = ['01/01/2017','02/01/2017','23/04/']"
   ]
  },
  {
   "cell_type": "code",
   "execution_count": 9,
   "metadata": {
    "collapsed": true
   },
   "outputs": [],
   "source": [
    "out = lambda l: l.split('/')[1]"
   ]
  },
  {
   "cell_type": "code",
   "execution_count": 10,
   "metadata": {},
   "outputs": [
    {
     "name": "stdout",
     "output_type": "stream",
     "text": [
      "<function <lambda> at 0x0000000008FC29D8>\n"
     ]
    }
   ],
   "source": [
    "print(out)"
   ]
  },
  {
   "cell_type": "code",
   "execution_count": 11,
   "metadata": {},
   "outputs": [
    {
     "data": {
      "text/plain": [
       "State\n",
       "Andaman & Nicobar Islands    2\n",
       "Andhra Pradesh               2\n",
       "Arunachal Pradesh            1\n",
       "Assam                        2\n",
       "dtype: int64"
      ]
     },
     "execution_count": 11,
     "metadata": {},
     "output_type": "execute_result"
    }
   ],
   "source": [
    "datagb.size()"
   ]
  },
  {
   "cell_type": "code",
   "execution_count": 12,
   "metadata": {
    "collapsed": true
   },
   "outputs": [],
   "source": [
    "#groupby ->date"
   ]
  },
  {
   "cell_type": "code",
   "execution_count": null,
   "metadata": {
    "collapsed": true
   },
   "outputs": [],
   "source": [
    "#to fetch months from all years\n",
    "l = ['01/01/2017','02/01/2017','23/04/2017']\n",
    "for i in l:\n",
    "    out = lambda i :i.split('/')[1]\n",
    "    print out(i)"
   ]
  },
  {
   "cell_type": "code",
   "execution_count": 14,
   "metadata": {},
   "outputs": [
    {
     "data": {
      "text/html": [
       "<div>\n",
       "<style>\n",
       "    .dataframe thead tr:only-child th {\n",
       "        text-align: right;\n",
       "    }\n",
       "\n",
       "    .dataframe thead th {\n",
       "        text-align: left;\n",
       "    }\n",
       "\n",
       "    .dataframe tbody tr th {\n",
       "        vertical-align: top;\n",
       "    }\n",
       "</style>\n",
       "<table border=\"1\" class=\"dataframe\">\n",
       "  <thead>\n",
       "    <tr style=\"text-align: right;\">\n",
       "      <th></th>\n",
       "      <th>State</th>\n",
       "      <th>Male</th>\n",
       "      <th>Female</th>\n",
       "      <th>Total</th>\n",
       "      <th>Male .1</th>\n",
       "      <th>Female .1</th>\n",
       "      <th>Total.1</th>\n",
       "      <th>Male_female</th>\n",
       "    </tr>\n",
       "  </thead>\n",
       "  <tbody>\n",
       "    <tr>\n",
       "      <th>0</th>\n",
       "      <td>Andaman &amp; Nicobar Islands</td>\n",
       "      <td>17547</td>\n",
       "      <td>17768</td>\n",
       "      <td>35315</td>\n",
       "      <td>11034</td>\n",
       "      <td>11198</td>\n",
       "      <td>22232</td>\n",
       "      <td>35315</td>\n",
       "    </tr>\n",
       "    <tr>\n",
       "      <th>1</th>\n",
       "      <td>Andhra Pradesh</td>\n",
       "      <td>2165879</td>\n",
       "      <td>2032435</td>\n",
       "      <td>4198320</td>\n",
       "      <td>1309000</td>\n",
       "      <td>1229445</td>\n",
       "      <td>2538440</td>\n",
       "      <td>4198314</td>\n",
       "    </tr>\n",
       "    <tr>\n",
       "      <th>2</th>\n",
       "      <td>Arunachal Pradesh</td>\n",
       "      <td>88695</td>\n",
       "      <td>85828</td>\n",
       "      <td>174523</td>\n",
       "      <td>39439</td>\n",
       "      <td>38352</td>\n",
       "      <td>77791</td>\n",
       "      <td>174523</td>\n",
       "    </tr>\n",
       "    <tr>\n",
       "      <th>3</th>\n",
       "      <td>Assam</td>\n",
       "      <td>1792270</td>\n",
       "      <td>1714270</td>\n",
       "      <td>3506540</td>\n",
       "      <td>944482</td>\n",
       "      <td>894428</td>\n",
       "      <td>1838910</td>\n",
       "      <td>3506540</td>\n",
       "    </tr>\n",
       "    <tr>\n",
       "      <th>4</th>\n",
       "      <td>Andaman &amp; Nicobar Islands</td>\n",
       "      <td>17547</td>\n",
       "      <td>17768</td>\n",
       "      <td>35315</td>\n",
       "      <td>11034</td>\n",
       "      <td>11198</td>\n",
       "      <td>22232</td>\n",
       "      <td>35315</td>\n",
       "    </tr>\n",
       "    <tr>\n",
       "      <th>5</th>\n",
       "      <td>Andhra Pradesh</td>\n",
       "      <td>2165879</td>\n",
       "      <td>2032435</td>\n",
       "      <td>4198320</td>\n",
       "      <td>1309000</td>\n",
       "      <td>1229445</td>\n",
       "      <td>2538440</td>\n",
       "      <td>4198314</td>\n",
       "    </tr>\n",
       "    <tr>\n",
       "      <th>6</th>\n",
       "      <td>Assam</td>\n",
       "      <td>1792270</td>\n",
       "      <td>1714270</td>\n",
       "      <td>3506540</td>\n",
       "      <td>944482</td>\n",
       "      <td>894428</td>\n",
       "      <td>1838910</td>\n",
       "      <td>3506540</td>\n",
       "    </tr>\n",
       "  </tbody>\n",
       "</table>\n",
       "</div>"
      ],
      "text/plain": [
       "                       State    Male   Female     Total  Male .1  Female .1  \\\n",
       "0  Andaman & Nicobar Islands    17547    17768    35315    11034      11198   \n",
       "1             Andhra Pradesh  2165879  2032435  4198320  1309000    1229445   \n",
       "2          Arunachal Pradesh    88695    85828   174523    39439      38352   \n",
       "3                      Assam  1792270  1714270  3506540   944482     894428   \n",
       "4  Andaman & Nicobar Islands    17547    17768    35315    11034      11198   \n",
       "5             Andhra Pradesh  2165879  2032435  4198320  1309000    1229445   \n",
       "6                      Assam  1792270  1714270  3506540   944482     894428   \n",
       "\n",
       "   Total.1  Male_female  \n",
       "0    22232        35315  \n",
       "1  2538440      4198314  \n",
       "2    77791       174523  \n",
       "3  1838910      3506540  \n",
       "4    22232        35315  \n",
       "5  2538440      4198314  \n",
       "6  1838910      3506540  "
      ]
     },
     "execution_count": 14,
     "metadata": {},
     "output_type": "execute_result"
    }
   ],
   "source": [
    "data"
   ]
  }
 ],
 "metadata": {
  "kernelspec": {
   "display_name": "Python 3",
   "language": "python",
   "name": "python3"
  },
  "language_info": {
   "codemirror_mode": {
    "name": "ipython",
    "version": 3
   },
   "file_extension": ".py",
   "mimetype": "text/x-python",
   "name": "python",
   "nbconvert_exporter": "python",
   "pygments_lexer": "ipython3",
   "version": "3.6.1"
  }
 },
 "nbformat": 4,
 "nbformat_minor": 2
}
