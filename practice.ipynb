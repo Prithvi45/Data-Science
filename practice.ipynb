{
 "cells": [
  {
   "cell_type": "code",
   "execution_count": 22,
   "metadata": {
    "collapsed": true
   },
   "outputs": [],
   "source": [
    "import pandas as pd\n",
    "import numpy as np \n",
    "import matplotlib.pyplot as plt\n",
    "%matplotlib inline"
   ]
  },
  {
   "cell_type": "code",
   "execution_count": 29,
   "metadata": {
    "collapsed": true
   },
   "outputs": [],
   "source": [
    "data = pd.read_excel('city.xlsx')"
   ]
  },
  {
   "cell_type": "code",
   "execution_count": 30,
   "metadata": {},
   "outputs": [
    {
     "data": {
      "text/html": [
       "<div>\n",
       "<style>\n",
       "    .dataframe thead tr:only-child th {\n",
       "        text-align: right;\n",
       "    }\n",
       "\n",
       "    .dataframe thead th {\n",
       "        text-align: left;\n",
       "    }\n",
       "\n",
       "    .dataframe tbody tr th {\n",
       "        vertical-align: top;\n",
       "    }\n",
       "</style>\n",
       "<table border=\"1\" class=\"dataframe\">\n",
       "  <thead>\n",
       "    <tr style=\"text-align: right;\">\n",
       "      <th></th>\n",
       "      <th>City</th>\n",
       "      <th>Lat</th>\n",
       "      <th>Long</th>\n",
       "    </tr>\n",
       "  </thead>\n",
       "  <tbody>\n",
       "    <tr>\n",
       "      <th>0</th>\n",
       "      <td>Dharmavaram, Andhra Pradesh, India</td>\n",
       "      <td>14.413745</td>\n",
       "      <td>77.712616</td>\n",
       "    </tr>\n",
       "    <tr>\n",
       "      <th>1</th>\n",
       "      <td>Siddipet, Telangana, India</td>\n",
       "      <td>18.101904</td>\n",
       "      <td>78.852074</td>\n",
       "    </tr>\n",
       "    <tr>\n",
       "      <th>2</th>\n",
       "      <td>Chirala, Andhra Pradesh, India</td>\n",
       "      <td>15.812074</td>\n",
       "      <td>80.355377</td>\n",
       "    </tr>\n",
       "  </tbody>\n",
       "</table>\n",
       "</div>"
      ],
      "text/plain": [
       "                                 City        Lat       Long\n",
       "0  Dharmavaram, Andhra Pradesh, India  14.413745  77.712616\n",
       "1          Siddipet, Telangana, India  18.101904  78.852074\n",
       "2      Chirala, Andhra Pradesh, India  15.812074  80.355377"
      ]
     },
     "execution_count": 30,
     "metadata": {},
     "output_type": "execute_result"
    }
   ],
   "source": [
    "data"
   ]
  },
  {
   "cell_type": "code",
   "execution_count": 31,
   "metadata": {},
   "outputs": [
    {
     "data": {
      "text/html": [
       "<div>\n",
       "<style>\n",
       "    .dataframe thead tr:only-child th {\n",
       "        text-align: right;\n",
       "    }\n",
       "\n",
       "    .dataframe thead th {\n",
       "        text-align: left;\n",
       "    }\n",
       "\n",
       "    .dataframe tbody tr th {\n",
       "        vertical-align: top;\n",
       "    }\n",
       "</style>\n",
       "<table border=\"1\" class=\"dataframe\">\n",
       "  <thead>\n",
       "    <tr style=\"text-align: right;\">\n",
       "      <th></th>\n",
       "      <th>City</th>\n",
       "      <th>Lat</th>\n",
       "      <th>Long</th>\n",
       "    </tr>\n",
       "  </thead>\n",
       "  <tbody>\n",
       "    <tr>\n",
       "      <th>0</th>\n",
       "      <td>Dharmavaram, Andhra Pradesh, India</td>\n",
       "      <td>14.413745</td>\n",
       "      <td>77.712616</td>\n",
       "    </tr>\n",
       "    <tr>\n",
       "      <th>1</th>\n",
       "      <td>Siddipet, Telangana, India</td>\n",
       "      <td>18.101904</td>\n",
       "      <td>78.852074</td>\n",
       "    </tr>\n",
       "    <tr>\n",
       "      <th>2</th>\n",
       "      <td>Chirala, Andhra Pradesh, India</td>\n",
       "      <td>15.812074</td>\n",
       "      <td>80.355377</td>\n",
       "    </tr>\n",
       "  </tbody>\n",
       "</table>\n",
       "</div>"
      ],
      "text/plain": [
       "                                 City        Lat       Long\n",
       "0  Dharmavaram, Andhra Pradesh, India  14.413745  77.712616\n",
       "1          Siddipet, Telangana, India  18.101904  78.852074\n",
       "2      Chirala, Andhra Pradesh, India  15.812074  80.355377"
      ]
     },
     "execution_count": 31,
     "metadata": {},
     "output_type": "execute_result"
    }
   ],
   "source": [
    "data"
   ]
  },
  {
   "cell_type": "code",
   "execution_count": 32,
   "metadata": {
    "collapsed": true
   },
   "outputs": [],
   "source": [
    "lat = data[' Lat']"
   ]
  },
  {
   "cell_type": "code",
   "execution_count": 33,
   "metadata": {
    "collapsed": true
   },
   "outputs": [],
   "source": [
    "long = data['Long']"
   ]
  },
  {
   "cell_type": "code",
   "execution_count": 1,
   "metadata": {},
   "outputs": [
    {
     "ename": "NameError",
     "evalue": "name 'plt' is not defined",
     "output_type": "error",
     "traceback": [
      "\u001b[1;31m---------------------------------------------------------------------------\u001b[0m",
      "\u001b[1;31mNameError\u001b[0m                                 Traceback (most recent call last)",
      "\u001b[1;32m<ipython-input-1-f12a7ab5441c>\u001b[0m in \u001b[0;36m<module>\u001b[1;34m()\u001b[0m\n\u001b[1;32m----> 1\u001b[1;33m \u001b[0mplt\u001b[0m\u001b[1;33m.\u001b[0m\u001b[0mplot\u001b[0m\u001b[1;33m(\u001b[0m\u001b[0mlat\u001b[0m\u001b[1;33m,\u001b[0m\u001b[0mlong\u001b[0m\u001b[1;33m,\u001b[0m\u001b[1;34m'*'\u001b[0m\u001b[1;33m)\u001b[0m\u001b[1;33m\u001b[0m\u001b[0m\n\u001b[0m",
      "\u001b[1;31mNameError\u001b[0m: name 'plt' is not defined"
     ]
    }
   ],
   "source": [
    "plt.plot(lat,long,'*')"
   ]
  },
  {
   "cell_type": "code",
   "execution_count": 3,
   "metadata": {
    "collapsed": true
   },
   "outputs": [],
   "source": [
    "import pandas as pd\n",
    "import numpy as np"
   ]
  },
  {
   "cell_type": "code",
   "execution_count": 5,
   "metadata": {
    "collapsed": true
   },
   "outputs": [],
   "source": [
    "data = pd.read_excel('city.xlsx')"
   ]
  },
  {
   "cell_type": "code",
   "execution_count": 7,
   "metadata": {},
   "outputs": [
    {
     "data": {
      "text/html": [
       "<div>\n",
       "<style>\n",
       "    .dataframe thead tr:only-child th {\n",
       "        text-align: right;\n",
       "    }\n",
       "\n",
       "    .dataframe thead th {\n",
       "        text-align: left;\n",
       "    }\n",
       "\n",
       "    .dataframe tbody tr th {\n",
       "        vertical-align: top;\n",
       "    }\n",
       "</style>\n",
       "<table border=\"1\" class=\"dataframe\">\n",
       "  <thead>\n",
       "    <tr style=\"text-align: right;\">\n",
       "      <th></th>\n",
       "      <th>City</th>\n",
       "      <th>Lat</th>\n",
       "      <th>Long</th>\n",
       "    </tr>\n",
       "  </thead>\n",
       "  <tbody>\n",
       "    <tr>\n",
       "      <th>0</th>\n",
       "      <td>Dharmavaram, Andhra Pradesh, India</td>\n",
       "      <td>14.413745</td>\n",
       "      <td>77.712616</td>\n",
       "    </tr>\n",
       "    <tr>\n",
       "      <th>1</th>\n",
       "      <td>Siddipet, Telangana, India</td>\n",
       "      <td>18.101904</td>\n",
       "      <td>78.852074</td>\n",
       "    </tr>\n",
       "    <tr>\n",
       "      <th>2</th>\n",
       "      <td>Chirala, Andhra Pradesh, India</td>\n",
       "      <td>15.812074</td>\n",
       "      <td>80.355377</td>\n",
       "    </tr>\n",
       "  </tbody>\n",
       "</table>\n",
       "</div>"
      ],
      "text/plain": [
       "                                 City        Lat       Long\n",
       "0  Dharmavaram, Andhra Pradesh, India  14.413745  77.712616\n",
       "1          Siddipet, Telangana, India  18.101904  78.852074\n",
       "2      Chirala, Andhra Pradesh, India  15.812074  80.355377"
      ]
     },
     "execution_count": 7,
     "metadata": {},
     "output_type": "execute_result"
    }
   ],
   "source": [
    "data"
   ]
  },
  {
   "cell_type": "code",
   "execution_count": 14,
   "metadata": {},
   "outputs": [],
   "source": [
    "# data.set_index('City', inplace=True)"
   ]
  },
  {
   "cell_type": "code",
   "execution_count": 30,
   "metadata": {},
   "outputs": [
    {
     "data": {
      "text/html": [
       "<div>\n",
       "<style>\n",
       "    .dataframe thead tr:only-child th {\n",
       "        text-align: right;\n",
       "    }\n",
       "\n",
       "    .dataframe thead th {\n",
       "        text-align: left;\n",
       "    }\n",
       "\n",
       "    .dataframe tbody tr th {\n",
       "        vertical-align: top;\n",
       "    }\n",
       "</style>\n",
       "<table border=\"1\" class=\"dataframe\">\n",
       "  <thead>\n",
       "    <tr style=\"text-align: right;\">\n",
       "      <th></th>\n",
       "      <th>Lat</th>\n",
       "      <th>Long</th>\n",
       "    </tr>\n",
       "    <tr>\n",
       "      <th>City</th>\n",
       "      <th></th>\n",
       "      <th></th>\n",
       "    </tr>\n",
       "  </thead>\n",
       "  <tbody>\n",
       "    <tr>\n",
       "      <th>Dharmavaram, Andhra Pradesh, India</th>\n",
       "      <td>14.413745</td>\n",
       "      <td>77.712616</td>\n",
       "    </tr>\n",
       "  </tbody>\n",
       "</table>\n",
       "</div>"
      ],
      "text/plain": [
       "                                          Lat       Long\n",
       "City                                                    \n",
       "Dharmavaram, Andhra Pradesh, India  14.413745  77.712616"
      ]
     },
     "execution_count": 30,
     "metadata": {},
     "output_type": "execute_result"
    }
   ],
   "source": [
    "data.filter(like='Dhar', axis=0)\n"
   ]
  },
  {
   "cell_type": "code",
   "execution_count": 28,
   "metadata": {},
   "outputs": [
    {
     "name": "stdout",
     "output_type": "stream",
     "text": [
      "Help on method filter in module pandas.core.generic:\n",
      "\n",
      "filter(items=None, like=None, regex=None, axis=None) method of pandas.core.frame.DataFrame instance\n",
      "    Subset rows or columns of dataframe according to labels in\n",
      "    the specified index.\n",
      "    \n",
      "    Note that this routine does not filter a dataframe on its\n",
      "    contents. The filter is applied to the labels of the index.\n",
      "    \n",
      "    Parameters\n",
      "    ----------\n",
      "    items : list-like\n",
      "        List of info axis to restrict to (must not all be present)\n",
      "    like : string\n",
      "        Keep info axis where \"arg in col == True\"\n",
      "    regex : string (regular expression)\n",
      "        Keep info axis with re.search(regex, col) == True\n",
      "    axis : int or string axis name\n",
      "        The axis to filter on.  By default this is the info axis,\n",
      "        'index' for Series, 'columns' for DataFrame\n",
      "    \n",
      "    Returns\n",
      "    -------\n",
      "    same type as input object\n",
      "    \n",
      "    Examples\n",
      "    --------\n",
      "    >>> df\n",
      "    one  two  three\n",
      "    mouse     1    2      3\n",
      "    rabbit    4    5      6\n",
      "    \n",
      "    >>> # select columns by name\n",
      "    >>> df.filter(items=['one', 'three'])\n",
      "    one  three\n",
      "    mouse     1      3\n",
      "    rabbit    4      6\n",
      "    \n",
      "    >>> # select columns by regular expression\n",
      "    >>> df.filter(regex='e$', axis=1)\n",
      "    one  three\n",
      "    mouse     1      3\n",
      "    rabbit    4      6\n",
      "    \n",
      "    >>> # select rows containing 'bbi'\n",
      "    >>> df.filter(like='bbi', axis=0)\n",
      "    one  two  three\n",
      "    rabbit    4    5      6\n",
      "    \n",
      "    See Also\n",
      "    --------\n",
      "    pandas.DataFrame.select\n",
      "    \n",
      "    Notes\n",
      "    -----\n",
      "    The ``items``, ``like``, and ``regex`` parameters are\n",
      "    enforced to be mutually exclusive.\n",
      "    \n",
      "    ``axis`` defaults to the info axis that is used when indexing\n",
      "    with ``[]``.\n",
      "\n"
     ]
    }
   ],
   "source": [
    "help(data.filter)"
   ]
  }
 ],
 "metadata": {
  "kernelspec": {
   "display_name": "Python 3",
   "language": "python",
   "name": "python3"
  }
 },
 "nbformat": 4,
 "nbformat_minor": 2
}
