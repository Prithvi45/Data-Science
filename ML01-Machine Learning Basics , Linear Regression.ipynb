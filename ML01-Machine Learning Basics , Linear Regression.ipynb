{
 "cells": [
  {
   "cell_type": "markdown",
   "metadata": {
    "collapsed": true
   },
   "source": [
    "### Defination\n",
    "#### Machine Learning By examples\n",
    "* Supervised - Regression & Classification\n",
    "* Unsupervised - Relationship amaong data, Clustering & Dimensionality reduction\n",
    "\n",
    "#### Scikit-Learn\n",
    "* Provides large number of common algorithms"
   ]
  },
  {
   "cell_type": "code",
   "execution_count": 2,
   "metadata": {
    "collapsed": true
   },
   "outputs": [],
   "source": [
    "### Data representation in scikit-learn\n",
    "\n",
    "import seaborn as sns\n",
    "iris = sns.load_dataset('iris')"
   ]
  },
  {
   "cell_type": "code",
   "execution_count": 9,
   "metadata": {},
   "outputs": [
    {
     "data": {
      "text/html": [
       "<div>\n",
       "<style>\n",
       "    .dataframe thead tr:only-child th {\n",
       "        text-align: right;\n",
       "    }\n",
       "\n",
       "    .dataframe thead th {\n",
       "        text-align: left;\n",
       "    }\n",
       "\n",
       "    .dataframe tbody tr th {\n",
       "        vertical-align: top;\n",
       "    }\n",
       "</style>\n",
       "<table border=\"1\" class=\"dataframe\">\n",
       "  <thead>\n",
       "    <tr style=\"text-align: right;\">\n",
       "      <th></th>\n",
       "      <th>sepal_length</th>\n",
       "      <th>sepal_width</th>\n",
       "      <th>petal_length</th>\n",
       "      <th>petal_width</th>\n",
       "      <th>species</th>\n",
       "    </tr>\n",
       "  </thead>\n",
       "  <tbody>\n",
       "    <tr>\n",
       "      <th>0</th>\n",
       "      <td>5.1</td>\n",
       "      <td>3.5</td>\n",
       "      <td>1.4</td>\n",
       "      <td>0.2</td>\n",
       "      <td>setosa</td>\n",
       "    </tr>\n",
       "    <tr>\n",
       "      <th>1</th>\n",
       "      <td>4.9</td>\n",
       "      <td>3.0</td>\n",
       "      <td>1.4</td>\n",
       "      <td>0.2</td>\n",
       "      <td>setosa</td>\n",
       "    </tr>\n",
       "    <tr>\n",
       "      <th>2</th>\n",
       "      <td>4.7</td>\n",
       "      <td>3.2</td>\n",
       "      <td>1.3</td>\n",
       "      <td>0.2</td>\n",
       "      <td>setosa</td>\n",
       "    </tr>\n",
       "    <tr>\n",
       "      <th>3</th>\n",
       "      <td>4.6</td>\n",
       "      <td>3.1</td>\n",
       "      <td>1.5</td>\n",
       "      <td>0.2</td>\n",
       "      <td>setosa</td>\n",
       "    </tr>\n",
       "    <tr>\n",
       "      <th>4</th>\n",
       "      <td>5.0</td>\n",
       "      <td>3.6</td>\n",
       "      <td>1.4</td>\n",
       "      <td>0.2</td>\n",
       "      <td>setosa</td>\n",
       "    </tr>\n",
       "  </tbody>\n",
       "</table>\n",
       "</div>"
      ],
      "text/plain": [
       "   sepal_length  sepal_width  petal_length  petal_width species\n",
       "0           5.1          3.5           1.4          0.2  setosa\n",
       "1           4.9          3.0           1.4          0.2  setosa\n",
       "2           4.7          3.2           1.3          0.2  setosa\n",
       "3           4.6          3.1           1.5          0.2  setosa\n",
       "4           5.0          3.6           1.4          0.2  setosa"
      ]
     },
     "execution_count": 9,
     "metadata": {},
     "output_type": "execute_result"
    }
   ],
   "source": [
    "iris.head()"
   ]
  },
  {
   "cell_type": "code",
   "execution_count": 14,
   "metadata": {},
   "outputs": [
    {
     "data": {
      "text/plain": [
       "species\n",
       "setosa        50\n",
       "versicolor    50\n",
       "virginica     50\n",
       "dtype: int64"
      ]
     },
     "execution_count": 14,
     "metadata": {},
     "output_type": "execute_result"
    }
   ],
   "source": [
    "iris.groupby('species').size()"
   ]
  },
  {
   "cell_type": "code",
   "execution_count": 16,
   "metadata": {},
   "outputs": [
    {
     "data": {
      "text/plain": [
       "(150, 5)"
      ]
     },
     "execution_count": 16,
     "metadata": {},
     "output_type": "execute_result"
    }
   ],
   "source": [
    "iris.shape"
   ]
  },
  {
   "cell_type": "code",
   "execution_count": 18,
   "metadata": {},
   "outputs": [
    {
     "data": {
      "text/plain": [
       "pandas.core.frame.DataFrame"
      ]
     },
     "execution_count": 18,
     "metadata": {},
     "output_type": "execute_result"
    }
   ],
   "source": [
    "type(iris)"
   ]
  },
  {
   "cell_type": "markdown",
   "metadata": {},
   "source": [
    "### Supervised Learning Example : Simple linear Regression"
   ]
  },
  {
   "cell_type": "code",
   "execution_count": 20,
   "metadata": {
    "collapsed": true
   },
   "outputs": [],
   "source": [
    "import matplotlib.pyplot as plt\n",
    "%matplotlib inline\n",
    "import numpy as np"
   ]
  },
  {
   "cell_type": "code",
   "execution_count": 22,
   "metadata": {
    "collapsed": true
   },
   "outputs": [],
   "source": [
    "rng = np.random.RandomState(11)"
   ]
  },
  {
   "cell_type": "code",
   "execution_count": 25,
   "metadata": {},
   "outputs": [],
   "source": [
    "x = 10 * rng.rand(50)\n"
   ]
  },
  {
   "cell_type": "code",
   "execution_count": 39,
   "metadata": {},
   "outputs": [
    {
     "data": {
      "text/plain": [
       "array([ 3.18187194,  2.18003375,  8.44938531,  3.02164688,  4.38220671,\n",
       "        0.91414587,  3.0097917 ,  0.85694806,  3.43713307,  7.09301018,\n",
       "        9.73968256,  6.2522484 ,  2.6930354 ,  6.56708806,  6.26997819,\n",
       "        8.25652229,  5.33693982,  9.11121665,  4.15503669,  2.86044669,\n",
       "        5.19007742,  9.22450238,  7.23911263,  4.93913001,  4.97496353,\n",
       "        6.48722198,  4.4777116 ,  5.50639471,  9.71175204,  9.32413719,\n",
       "        8.4068543 ,  1.27048261,  5.56521106,  3.66427211,  9.11795484,\n",
       "        3.13679153,  9.30765922,  2.38346101,  4.20390775,  9.59962647,\n",
       "        5.9548669 ,  9.32148622,  5.38850292,  2.28036866,  7.1296292 ,\n",
       "        5.21573491,  5.05473169,  1.36484513,  1.44919462,  9.29605114])"
      ]
     },
     "execution_count": 39,
     "metadata": {},
     "output_type": "execute_result"
    }
   ],
   "source": [
    "x"
   ]
  },
  {
   "cell_type": "code",
   "execution_count": 33,
   "metadata": {},
   "outputs": [
    {
     "data": {
      "text/plain": [
       "array([[ 3.18187194],\n",
       "       [ 2.18003375],\n",
       "       [ 8.44938531],\n",
       "       [ 3.02164688],\n",
       "       [ 4.38220671],\n",
       "       [ 0.91414587],\n",
       "       [ 3.0097917 ],\n",
       "       [ 0.85694806],\n",
       "       [ 3.43713307],\n",
       "       [ 7.09301018],\n",
       "       [ 9.73968256],\n",
       "       [ 6.2522484 ],\n",
       "       [ 2.6930354 ],\n",
       "       [ 6.56708806],\n",
       "       [ 6.26997819],\n",
       "       [ 8.25652229],\n",
       "       [ 5.33693982],\n",
       "       [ 9.11121665],\n",
       "       [ 4.15503669],\n",
       "       [ 2.86044669],\n",
       "       [ 5.19007742],\n",
       "       [ 9.22450238],\n",
       "       [ 7.23911263],\n",
       "       [ 4.93913001],\n",
       "       [ 4.97496353],\n",
       "       [ 6.48722198],\n",
       "       [ 4.4777116 ],\n",
       "       [ 5.50639471],\n",
       "       [ 9.71175204],\n",
       "       [ 9.32413719],\n",
       "       [ 8.4068543 ],\n",
       "       [ 1.27048261],\n",
       "       [ 5.56521106],\n",
       "       [ 3.66427211],\n",
       "       [ 9.11795484],\n",
       "       [ 3.13679153],\n",
       "       [ 9.30765922],\n",
       "       [ 2.38346101],\n",
       "       [ 4.20390775],\n",
       "       [ 9.59962647],\n",
       "       [ 5.9548669 ],\n",
       "       [ 9.32148622],\n",
       "       [ 5.38850292],\n",
       "       [ 2.28036866],\n",
       "       [ 7.1296292 ],\n",
       "       [ 5.21573491],\n",
       "       [ 5.05473169],\n",
       "       [ 1.36484513],\n",
       "       [ 1.44919462],\n",
       "       [ 9.29605114]])"
      ]
     },
     "execution_count": 33,
     "metadata": {},
     "output_type": "execute_result"
    }
   ],
   "source": [
    "x[:,np.newaxis] #add one more dim to data\n",
    "x.reshape((50,1))"
   ]
  },
  {
   "cell_type": "code",
   "execution_count": 41,
   "metadata": {},
   "outputs": [],
   "source": [
    "y = 2*x + 1.5"
   ]
  },
  {
   "cell_type": "code",
   "execution_count": 43,
   "metadata": {},
   "outputs": [
    {
     "data": {
      "text/plain": [
       "array([  7.86374388,   5.86006751,  18.39877062,   7.54329376,\n",
       "        10.26441342,   3.32829174,   7.5195834 ,   3.21389612,\n",
       "         8.37426614,  15.68602036,  20.97936512,  14.0044968 ,\n",
       "         6.8860708 ,  14.63417612,  14.03995638,  18.01304458,\n",
       "        12.17387964,  19.7224333 ,   9.81007338,   7.22089339,\n",
       "        11.88015483,  19.94900477,  15.97822525,  11.37826002,\n",
       "        11.44992705,  14.47444397,  10.45542321,  12.51278942,\n",
       "        20.92350407,  20.14827438,  18.31370861,   4.04096522,\n",
       "        12.63042212,   8.82854422,  19.73590969,   7.77358306,\n",
       "        20.11531845,   6.26692202,   9.9078155 ,  20.69925295,\n",
       "        13.40973381,  20.14297243,  12.27700584,   6.06073732,\n",
       "        15.7592584 ,  11.93146983,  11.60946337,   4.22969027,\n",
       "         4.39838924,  20.09210229])"
      ]
     },
     "execution_count": 43,
     "metadata": {},
     "output_type": "execute_result"
    }
   ],
   "source": [
    "y"
   ]
  },
  {
   "cell_type": "code",
   "execution_count": 45,
   "metadata": {
    "collapsed": true
   },
   "outputs": [],
   "source": [
    "from sklearn.linear_model import LinearRegression"
   ]
  },
  {
   "cell_type": "code",
   "execution_count": 47,
   "metadata": {
    "collapsed": true
   },
   "outputs": [],
   "source": [
    "model = LinearRegression(fit_intercept=True)"
   ]
  },
  {
   "cell_type": "code",
   "execution_count": 49,
   "metadata": {},
   "outputs": [
    {
     "data": {
      "text/plain": [
       "LinearRegression(copy_X=True, fit_intercept=True, n_jobs=1, normalize=False)"
      ]
     },
     "execution_count": 49,
     "metadata": {},
     "output_type": "execute_result"
    }
   ],
   "source": [
    "#Trained the model with feature & target\n",
    "#Input data should be in form of list of rows\n",
    "model.fit(x[:,np.newaxis],y)"
   ]
  },
  {
   "cell_type": "code",
   "execution_count": 54,
   "metadata": {},
   "outputs": [
    {
     "data": {
      "text/plain": [
       "array([ 2.])"
      ]
     },
     "execution_count": 54,
     "metadata": {},
     "output_type": "execute_result"
    }
   ],
   "source": [
    "model.coef_"
   ]
  },
  {
   "cell_type": "code",
   "execution_count": 56,
   "metadata": {},
   "outputs": [
    {
     "data": {
      "text/plain": [
       "1.5000000000000053"
      ]
     },
     "execution_count": 56,
     "metadata": {},
     "output_type": "execute_result"
    }
   ],
   "source": [
    "model.intercept_"
   ]
  },
  {
   "cell_type": "code",
   "execution_count": 58,
   "metadata": {},
   "outputs": [
    {
     "data": {
      "text/plain": [
       "1"
      ]
     },
     "execution_count": 58,
     "metadata": {},
     "output_type": "execute_result"
    }
   ],
   "source": [
    "model.rank_"
   ]
  },
  {
   "cell_type": "code",
   "execution_count": 60,
   "metadata": {
    "collapsed": true
   },
   "outputs": [],
   "source": [
    "import matplotlib.pyplot as plt\n",
    "%matplotlib inline"
   ]
  },
  {
   "cell_type": "code",
   "execution_count": 65,
   "metadata": {},
   "outputs": [
    {
     "data": {
      "text/plain": [
       "<matplotlib.collections.PathCollection at 0xc576ac8>"
      ]
     },
     "execution_count": 65,
     "metadata": {},
     "output_type": "execute_result"
    },
    {
     "data": {
      "image/png": "[encoded data removed]",
      "text/plain": [
       "<matplotlib.figure.Figure at 0xc4f7a58>"
      ]
     },
     "metadata": {},
     "output_type": "display_data"
    }
   ],
   "source": [
    "plt.scatter(x,y)"
   ]
  },
  {
   "cell_type": "code",
   "execution_count": 79,
   "metadata": {},
   "outputs": [
    {
     "data": {
      "text/plain": [
       "array([ 7.86374388])"
      ]
     },
     "execution_count": 79,
     "metadata": {},
     "output_type": "execute_result"
    }
   ],
   "source": [
    "\n",
    "model.predict([[3.18187194]])"
   ]
  },
  {
   "cell_type": "code",
   "execution_count": 78,
   "metadata": {},
   "outputs": [
    {
     "data": {
      "text/plain": [
       "array([  7.86374388,   5.86006751,  18.39877062,   7.54329376,\n",
       "        10.26441342,   3.32829174,   7.5195834 ,   3.21389612,\n",
       "         8.37426614,  15.68602036,  20.97936512,  14.0044968 ,\n",
       "         6.8860708 ,  14.63417612,  14.03995638,  18.01304458,\n",
       "        12.17387964,  19.7224333 ,   9.81007338,   7.22089339,\n",
       "        11.88015483,  19.94900477,  15.97822525,  11.37826002,\n",
       "        11.44992705,  14.47444397,  10.45542321,  12.51278942,\n",
       "        20.92350407,  20.14827438,  18.31370861,   4.04096522,\n",
       "        12.63042212,   8.82854422,  19.73590969,   7.77358306,\n",
       "        20.11531845,   6.26692202,   9.9078155 ,  20.69925295,\n",
       "        13.40973381,  20.14297243,  12.27700584,   6.06073732,\n",
       "        15.7592584 ,  11.93146983,  11.60946337,   4.22969027,\n",
       "         4.39838924,  20.09210229])"
      ]
     },
     "execution_count": 78,
     "metadata": {},
     "output_type": "execute_result"
    }
   ],
   "source": [
    "y"
   ]
  },
  {
   "cell_type": "code",
   "execution_count": null,
   "metadata": {},
   "outputs": [],
   "source": []
  },
  {
   "cell_type": "code",
   "execution_count": null,
   "metadata": {
    "collapsed": true
   },
   "outputs": [],
   "source": []
  }
 ],
 "metadata": {
  "kernelspec": {
   "display_name": "Python 3",
   "language": "python",
   "name": "python3"
  },
  "language_info": {
   "codemirror_mode": {
    "name": "ipython",
    "version": 3
   },
   "file_extension": ".py",
   "mimetype": "text/x-python",
   "name": "python",
   "nbconvert_exporter": "python",
   "pygments_lexer": "ipython3",
   "version": "3.6.1"
  }
 },
 "nbformat": 4,
 "nbformat_minor": 2
}
