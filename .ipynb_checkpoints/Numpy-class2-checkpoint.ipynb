{
 "cells": [
  {
   "cell_type": "code",
   "execution_count": 2,
   "metadata": {
    "collapsed": true
   },
   "outputs": [],
   "source": [
    "import numpy as np"
   ]
  },
  {
   "cell_type": "code",
   "execution_count": 7,
   "metadata": {
    "collapsed": false
   },
   "outputs": [
    {
     "data": {
      "text/plain": [
       "array([ 5. ,  5.5,  6. ,  6.5,  7. ,  7.5,  8. ,  8.5,  9. ,  9.5])"
      ]
     },
     "execution_count": 7,
     "metadata": {},
     "output_type": "execute_result"
    }
   ],
   "source": [
    "np.arange(5,10,0.5)"
   ]
  },
  {
   "cell_type": "markdown",
   "metadata": {},
   "source": [
    "###Array Concatenation and splitting\n",
    "Aixs :\n",
    "y->0 - vertical  \n",
    "x->1 - horizontal\n",
    "by default->0\n",
    "\n",
    "concatenate()\n",
    "stacking vertically and horizontally:\n",
    "vstack() : no of cols should be same for both arrays\n",
    "hstack() : no of rows should be same for both arrays\n",
    "\n",
    "splitting arrays:\n",
    "split(x,[position of array])\n",
    "vsplit(xx,[position of array]) : splits vertically\n",
    "hsplit(xx,[position of array]) : splits horizontally\n",
    "\n",
    "Computation on Numpy Arrays (operates universal)\n",
    "+\n",
    "*\n",
    "/\n",
    "multiply(array,value)\n",
    "\n",
    "%timeit\n",
    "python sum\n",
    "Numpy sum -> np.sum\n",
    "absolute(array)\n",
    "sin(arrray)\n",
    "problems\n",
    "1)500 -1000 size 20*30\n",
    "2)split above matrix with all function"
   ]
  },
  {
   "cell_type": "code",
   "execution_count": null,
   "metadata": {
    "collapsed": true
   },
   "outputs": [],
   "source": []
  },
  {
   "cell_type": "raw",
   "metadata": {},
   "source": [
    "data = np.random.randint(1,10,size=5)"
   ]
  },
  {
   "cell_type": "code",
   "execution_count": null,
   "metadata": {
    "collapsed": false
   },
   "outputs": [],
   "source": []
  },
  {
   "cell_type": "code",
   "execution_count": null,
   "metadata": {
    "collapsed": false
   },
   "outputs": [],
   "source": []
  },
  {
   "cell_type": "code",
   "execution_count": null,
   "metadata": {
    "collapsed": false
   },
   "outputs": [],
   "source": []
  }
 ],
 "metadata": {
  "kernelspec": {
   "display_name": "Python 2",
   "language": "python",
   "name": "python2"
  },
  "language_info": {
   "codemirror_mode": {
    "name": "ipython",
    "version": 2
   },
   "file_extension": ".py",
   "mimetype": "text/x-python",
   "name": "python",
   "nbconvert_exporter": "python",
   "pygments_lexer": "ipython2",
   "version": "2.7.13"
  }
 },
 "nbformat": 4,
 "nbformat_minor": 2
}
