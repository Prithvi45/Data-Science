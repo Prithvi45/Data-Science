{
 "cells": [
  {
   "cell_type": "code",
   "execution_count": 2,
   "metadata": {
    "collapsed": true
   },
   "outputs": [],
   "source": [
    "\n",
    "%matplotlib inline\n",
    "import numpy as np\n",
    "import matplotlib.pyplot as plt\n",
    "plt.style.use('seaborn-white')"
   ]
  },
  {
   "cell_type": "code",
   "execution_count": 4,
   "metadata": {
    "collapsed": true
   },
   "outputs": [],
   "source": [
    "data = np.random.randn(1000)"
   ]
  },
  {
   "cell_type": "code",
   "execution_count": 7,
   "metadata": {},
   "outputs": [
    {
     "data": {
      "text/plain": [
       "(array([   1.,   12.,   32.,  147.,  237.,  260.,  216.,   75.,   18.,    2.]),\n",
       " array([-3.72687419, -3.01104686, -2.29521954, -1.57939221, -0.86356489,\n",
       "        -0.14773756,  0.56808976,  1.28391709,  1.99974441,  2.71557174,\n",
       "         3.43139907]),\n",
       " <a list of 10 Patch objects>)"
      ]
     },
     "execution_count": 7,
     "metadata": {},
     "output_type": "execute_result"
    },
    {
     "data": {
      "image/png": "[encoded data removed]",
      "text/plain": [
       "<matplotlib.figure.Figure at 0x81e4c50>"
      ]
     },
     "metadata": {},
     "output_type": "display_data"
    }
   ],
   "source": [
    "plt.hist(data)"
   ]
  },
  {
   "cell_type": "code",
   "execution_count": 12,
   "metadata": {},
   "outputs": [
    {
     "data": {
      "text/plain": [
       "(array([  1.,   0.,   0.,   2.,   4.,   6.,   2.,  12.,  18.,  42.,  44.,\n",
       "         61.,  78.,  68.,  91.,  81.,  86.,  93.,  98.,  72.,  46.,  35.,\n",
       "         26.,  14.,  11.,   4.,   3.,   0.,   1.,   1.]),\n",
       " array([-3.72687419, -3.48826508, -3.24965597, -3.01104686, -2.77243775,\n",
       "        -2.53382865, -2.29521954, -2.05661043, -1.81800132, -1.57939221,\n",
       "        -1.3407831 , -1.10217399, -0.86356489, -0.62495578, -0.38634667,\n",
       "        -0.14773756,  0.09087155,  0.32948066,  0.56808976,  0.80669887,\n",
       "         1.04530798,  1.28391709,  1.5225262 ,  1.76113531,  1.99974441,\n",
       "         2.23835352,  2.47696263,  2.71557174,  2.95418085,  3.19278996,\n",
       "         3.43139907]),\n",
       " <a list of 30 Patch objects>)"
      ]
     },
     "execution_count": 12,
     "metadata": {},
     "output_type": "execute_result"
    },
    {
     "data": {
      "image/png": "[encoded data removed]",
      "text/plain": [
       "<matplotlib.figure.Figure at 0x81f6668>"
      ]
     },
     "metadata": {},
     "output_type": "display_data"
    }
   ],
   "source": [
    "plt.hist(data, bins=30, alpha=0.5, color='red')"
   ]
  },
  {
   "cell_type": "code",
   "execution_count": 14,
   "metadata": {},
   "outputs": [],
   "source": [
    "\n",
    "x1 = np.random.normal(0, 0.8, 1000)\n",
    "x2 = np.random.normal(-2, 1, 1000)\n",
    "x3 = np.random.normal(3, 2, 1000)"
   ]
  },
  {
   "cell_type": "code",
   "execution_count": 16,
   "metadata": {},
   "outputs": [
    {
     "data": {
      "text/plain": [
       "(array([  1.,   2.,   1.,   6.,   4.,   9.,  18.,  23.,  28.,  41.,  46.,\n",
       "         67.,  56.,  79.,  58.,  77.,  72.,  60.,  79.,  75.,  51.,  32.,\n",
       "         34.,  18.,  22.,  18.,   9.,   7.,   5.,   2.]),\n",
       " array([-3.29814533, -2.90419129, -2.51023725, -2.1162832 , -1.72232916,\n",
       "        -1.32837512, -0.93442108, -0.54046704, -0.14651299,  0.24744105,\n",
       "         0.64139509,  1.03534913,  1.42930317,  1.82325722,  2.21721126,\n",
       "         2.6111653 ,  3.00511934,  3.39907338,  3.79302743,  4.18698147,\n",
       "         4.58093551,  4.97488955,  5.36884359,  5.76279764,  6.15675168,\n",
       "         6.55070572,  6.94465976,  7.33861381,  7.73256785,  8.12652189,\n",
       "         8.52047593]),\n",
       " <a list of 30 Patch objects>)"
      ]
     },
     "execution_count": 16,
     "metadata": {},
     "output_type": "execute_result"
    },
    {
     "data": {
      "image/png": "[encoded data removed]",
      "text/plain": [
       "<matplotlib.figure.Figure at 0x86d2550>"
      ]
     },
     "metadata": {},
     "output_type": "display_data"
    }
   ],
   "source": [
    "plt.hist(x1,bins=30, alpha=0.3, color='red')\n",
    "plt.hist(x2,bins=30, alpha=0.3, color='green')\n",
    "plt.hist(x3,bins=30, alpha=0.3, color='blue')"
   ]
  },
  {
   "cell_type": "code",
   "execution_count": 20,
   "metadata": {},
   "outputs": [],
   "source": [
    "# d = np.random.normal(-1,1,10) "
   ]
  },
  {
   "cell_type": "code",
   "execution_count": 31,
   "metadata": {},
   "outputs": [],
   "source": [
    "mean = [0, 0]\n",
    "cov = [[1, 1], [1, 2]]\n",
    "x, y = np.random.multivariate_normal(mean, cov, 10000).T"
   ]
  },
  {
   "cell_type": "code",
   "execution_count": 37,
   "metadata": {},
   "outputs": [
    {
     "data": {
      "text/plain": [
       "array([ 0.09083836,  0.21479387,  1.26403127, ..., -1.04733124,\n",
       "       -0.59610727,  1.69072454])"
      ]
     },
     "execution_count": 37,
     "metadata": {},
     "output_type": "execute_result"
    }
   ],
   "source": [
    "x"
   ]
  },
  {
   "cell_type": "code",
   "execution_count": 38,
   "metadata": {},
   "outputs": [
    {
     "data": {
      "text/plain": [
       "array([-1.51076322,  0.13485549, -0.6419625 , ...,  0.73209893,\n",
       "        0.61195598,  0.60233404])"
      ]
     },
     "execution_count": 38,
     "metadata": {},
     "output_type": "execute_result"
    }
   ],
   "source": [
    "y"
   ]
  },
  {
   "cell_type": "code",
   "execution_count": 39,
   "metadata": {},
   "outputs": [
    {
     "data": {
      "image/png": "[encoded data removed]",
      "text/plain": [
       "<matplotlib.figure.Figure at 0x8a4dbe0>"
      ]
     },
     "metadata": {},
     "output_type": "display_data"
    }
   ],
   "source": [
    "plt.hist2d(x,y,bins=30,cmap='Blues')\n",
    "cb = plt.colorbar()"
   ]
  }
 ],
 "metadata": {
  "kernelspec": {
   "display_name": "Python 3",
   "language": "python",
   "name": "python3"
  },
  "language_info": {
   "codemirror_mode": {
    "name": "ipython",
    "version": 3
   },
   "file_extension": ".py",
   "mimetype": "text/x-python",
   "name": "python",
   "nbconvert_exporter": "python",
   "pygments_lexer": "ipython3",
   "version": "3.6.1"
  }
 },
 "nbformat": 4,
 "nbformat_minor": 2
}
